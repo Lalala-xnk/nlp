{
 "cells": [
  {
   "cell_type": "markdown",
   "source": [
    "NLP Project\n",
    "---\n",
    "Coronavirus Tweets NLP - Text Classification"
   ],
   "metadata": {
    "collapsed": false
   }
  },
  {
   "cell_type": "code",
   "execution_count": 40,
   "metadata": {
    "collapsed": true
   },
   "outputs": [],
   "source": [
    "# requirements and data preparation\n",
    "import numpy as np\n",
    "import pandas as pd\n",
    "import re\n",
    "import tensorflow as tf\n",
    "import warnings\n",
    "\n",
    "from nltk.corpus import stopwords\n",
    "from keras.preprocessing.text import Tokenizer\n",
    "from sklearn.model_selection import train_test_split\n",
    "from tensorflow.keras.preprocessing.sequence import pad_sequences\n",
    "from tensorflow.keras.utils import to_categorical\n",
    "\n",
    "warnings.filterwarnings('ignore')\n",
    "\n",
    "training = pd.read_csv('Corona_NLP_train.csv', encoding='latin-1')\n",
    "test = pd.read_csv('Corona_NLP_test.csv', encoding='latin-1')\n",
    "\n",
    "training_data = training[['OriginalTweet', 'Sentiment']]\n",
    "test_data = test[['OriginalTweet', 'Sentiment']]"
   ]
  },
  {
   "cell_type": "code",
   "execution_count": 41,
   "outputs": [
    {
     "name": "stdout",
     "output_type": "stream",
     "text": [
      "                                        OriginalTweet  Sentiment\n",
      "1   advice talk neighbours family exchange phone n...          1\n",
      "2   coronavirus australia: woolworths give elderly...          1\n",
      "3   food stock one empty... please, panic, enough ...          1\n",
      "4   me, ready go supermarket outbreak. i'm paranoi...         -2\n",
      "5   news regionâs first confirmed covid- case cam...          1\n",
      "6   cashier grocery store sharing insights prove c...          1\n",
      "7                supermarket today. buy toilet paper.          0\n",
      "8   due covid- retail store classroom atlanta open...          1\n",
      "9   corona prevention,we stop buy things cash use ...         -1\n",
      "10  month crowding supermarkets restaurants, howev...          0\n"
     ]
    }
   ],
   "source": [
    "# preprocessing\n",
    "def format_data(text):\n",
    "    text = str(text).strip()\n",
    "    text = text.lower()\n",
    "    text = re.sub(r\"http\\S+\",\"\",text)\n",
    "    text = re.sub(r\"@\\w+\",\"\",text)\n",
    "    text = re.sub(r\"#\\w+\",\"\",text)\n",
    "    text = re.sub(r\"\\d+\",\"\",text)\n",
    "    text = re.sub(r\"<.*?>\",\"\",text)\n",
    "    text = text.split()\n",
    "    stop_words = stopwords.words('english')\n",
    "    text = ' '.join([word for word in text if not word in stop_words])\n",
    "    return text\n",
    "\n",
    "training_data['OriginalTweet'] = training_data['OriginalTweet'].apply(lambda x: format_data(x))\n",
    "training_data['OriginalTweet'] = training_data['OriginalTweet'].replace('', np.nan)\n",
    "training_data = training_data.dropna(subset=['OriginalTweet'])\n",
    "training_data['Sentiment'] = training_data['Sentiment'].replace({'Extremely Positive': 2, 'Positive': 1, 'Neutral': 0,\n",
    "                                                                 'Negative': -1, 'Extremely Negative': -2})\n",
    "# training_data['Sentiment'] = pd.factorize(training_data['Sentiment'])[0].astype(int)\n",
    "print(training_data.head(10))\n",
    "\n",
    "data_train, data_test = train_test_split(training_data, test_size=0.3)\n",
    "x_train = data_train[['OriginalTweet']]\n",
    "y_train = data_train[['Sentiment']]\n",
    "x_test = data_test[['OriginalTweet']]\n",
    "y_test = data_test[['Sentiment']]"
   ],
   "metadata": {
    "collapsed": false,
    "pycharm": {
     "name": "#%%\n"
    }
   }
  },
  {
   "cell_type": "code",
   "execution_count": 43,
   "outputs": [
    {
     "name": "stdout",
     "output_type": "stream",
     "text": [
      "Epoch 1/20\n",
      "900/900 [==============================] - 63s 68ms/step - loss: 1.5821 - accuracy: 0.2740 - val_loss: 1.5276 - val_accuracy: 0.2983\n",
      "Epoch 2/20\n",
      "900/900 [==============================] - 61s 67ms/step - loss: 1.3867 - accuracy: 0.3866 - val_loss: 1.1071 - val_accuracy: 0.5476\n",
      "Epoch 3/20\n",
      "900/900 [==============================] - 61s 68ms/step - loss: 1.0146 - accuracy: 0.6111 - val_loss: 0.8754 - val_accuracy: 0.7222\n",
      "Epoch 4/20\n",
      "900/900 [==============================] - 62s 69ms/step - loss: 0.8131 - accuracy: 0.7262 - val_loss: 0.7772 - val_accuracy: 0.7464\n",
      "Epoch 5/20\n",
      "900/900 [==============================] - 61s 68ms/step - loss: 0.6942 - accuracy: 0.7780 - val_loss: 0.7543 - val_accuracy: 0.7462\n",
      "Epoch 6/20\n",
      "900/900 [==============================] - 61s 68ms/step - loss: 0.6058 - accuracy: 0.8155 - val_loss: 0.7578 - val_accuracy: 0.7556\n",
      "Epoch 7/20\n",
      "900/900 [==============================] - 62s 69ms/step - loss: 0.5397 - accuracy: 0.8376 - val_loss: 0.7887 - val_accuracy: 0.7490\n",
      "Epoch 8/20\n",
      "900/900 [==============================] - 62s 69ms/step - loss: 0.4861 - accuracy: 0.8558 - val_loss: 0.8769 - val_accuracy: 0.7436\n",
      "Epoch 9/20\n",
      "900/900 [==============================] - 61s 68ms/step - loss: 0.4532 - accuracy: 0.8645 - val_loss: 0.8802 - val_accuracy: 0.7457\n",
      "Epoch 10/20\n",
      "900/900 [==============================] - 61s 68ms/step - loss: 0.4235 - accuracy: 0.8731 - val_loss: 0.9124 - val_accuracy: 0.7406\n",
      "Epoch 11/20\n",
      "900/900 [==============================] - 61s 68ms/step - loss: 0.4006 - accuracy: 0.8769 - val_loss: 0.9373 - val_accuracy: 0.7338\n",
      "Epoch 12/20\n",
      "900/900 [==============================] - 61s 68ms/step - loss: 0.3812 - accuracy: 0.8817 - val_loss: 0.9560 - val_accuracy: 0.7402\n",
      "Epoch 13/20\n",
      "900/900 [==============================] - 62s 69ms/step - loss: 0.3603 - accuracy: 0.8855 - val_loss: 1.0549 - val_accuracy: 0.7357\n",
      "Epoch 14/20\n",
      "900/900 [==============================] - 61s 67ms/step - loss: 0.3480 - accuracy: 0.8872 - val_loss: 1.1179 - val_accuracy: 0.7302\n",
      "Epoch 15/20\n",
      "900/900 [==============================] - 60s 67ms/step - loss: 0.3283 - accuracy: 0.8912 - val_loss: 1.1317 - val_accuracy: 0.7269\n",
      "Epoch 16/20\n",
      "900/900 [==============================] - 60s 67ms/step - loss: 0.3211 - accuracy: 0.8935 - val_loss: 1.1676 - val_accuracy: 0.7198\n",
      "Epoch 17/20\n",
      "900/900 [==============================] - 61s 68ms/step - loss: 0.3101 - accuracy: 0.8947 - val_loss: 1.2725 - val_accuracy: 0.7139\n",
      "Epoch 18/20\n",
      "900/900 [==============================] - 61s 68ms/step - loss: 0.3007 - accuracy: 0.8956 - val_loss: 1.3069 - val_accuracy: 0.7131\n",
      "Epoch 19/20\n",
      "900/900 [==============================] - 60s 67ms/step - loss: 0.2881 - accuracy: 0.9040 - val_loss: 1.2155 - val_accuracy: 0.7174\n",
      "Epoch 20/20\n",
      "900/900 [==============================] - 60s 67ms/step - loss: 0.2792 - accuracy: 0.9119 - val_loss: 1.3525 - val_accuracy: 0.7244\n"
     ]
    }
   ],
   "source": [
    "# training\n",
    "tokenizer = Tokenizer()\n",
    "tokenizer.fit_on_texts(x_train['OriginalTweet'])\n",
    "x_train_new = tokenizer.texts_to_sequences(x_train['OriginalTweet'])\n",
    "x_test_new = tokenizer.texts_to_sequences(x_test['OriginalTweet'])\n",
    "\n",
    "max_len = np.max(training_data['OriginalTweet'].apply(lambda x: len(x)))\n",
    "x_train_new = pad_sequences(x_train_new, maxlen=max_len, padding='post')\n",
    "x_test_new = pad_sequences(x_test_new, maxlen=max_len, padding='post')\n",
    "\n",
    "embedding_dim = 25\n",
    "vocab_len = len(tokenizer.word_index) + 1\n",
    "model = tf.keras.Sequential([tf.keras.layers.Embedding(vocab_len, embedding_dim, input_length=max_len),\n",
    "                            tf.keras.layers.Bidirectional(tf.keras.layers.GRU(64, return_sequences=True)),\n",
    "                            tf.keras.layers.GlobalAveragePooling1D(),\n",
    "                            tf.keras.layers.Dropout(0.5),\n",
    "                            tf.keras.layers.Dense(16, activation = 'relu', activity_regularizer=tf.keras.regularizers.L2(0.01)),\n",
    "                            tf.keras.layers.Dropout(0.5),\n",
    "                            tf.keras.layers.Dense(5, activation = 'softmax')])\n",
    "model.compile(loss = 'categorical_crossentropy',optimizer = 'adam',metrics = ['accuracy'])\n",
    "\n",
    "y_train_new = to_categorical(y_train, 5)\n",
    "y_test_new = to_categorical(y_test, 5)\n",
    "\n",
    "num_epochs = 20\n",
    "history = model.fit(x_train_new, y_train_new, epochs=num_epochs, validation_data=(x_test_new, y_test_new))"
   ],
   "metadata": {
    "collapsed": false,
    "pycharm": {
     "name": "#%%\n"
    }
   }
  },
  {
   "cell_type": "code",
   "execution_count": 44,
   "outputs": [
    {
     "data": {
      "text/plain": "<Figure size 432x288 with 1 Axes>",
      "image/png": "[encoded data removed]"
     },
     "metadata": {
      "needs_background": "light"
     },
     "output_type": "display_data"
    }
   ],
   "source": [
    "# evaluate\n",
    "import matplotlib.pyplot as plt\n",
    "plt.plot(history.history['accuracy'])\n",
    "plt.plot(history.history['val_accuracy'])\n",
    "plt.title('model accuracy')\n",
    "plt.ylabel('accuracy')\n",
    "plt.xlabel('epoch')\n",
    "plt.legend(['train', 'test'], loc='upper left')\n",
    "plt.show()"
   ],
   "metadata": {
    "collapsed": false,
    "pycharm": {
     "name": "#%%\n"
    }
   }
  },
  {
   "cell_type": "code",
   "execution_count": null,
   "outputs": [],
   "source": [],
   "metadata": {
    "collapsed": false,
    "pycharm": {
     "name": "#%%\n"
    }
   }
  }
 ],
 "metadata": {
  "kernelspec": {
   "display_name": "Python 3",
   "language": "python",
   "name": "python3"
  },
  "language_info": {
   "codemirror_mode": {
    "name": "ipython",
    "version": 2
   },
   "file_extension": ".py",
   "mimetype": "text/x-python",
   "name": "python",
   "nbconvert_exporter": "python",
   "pygments_lexer": "ipython2",
   "version": "2.7.6"
  }
 },
 "nbformat": 4,
 "nbformat_minor": 0
}